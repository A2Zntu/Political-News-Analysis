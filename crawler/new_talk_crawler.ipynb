{
 "cells": [
  {
   "cell_type": "code",
   "execution_count": 1,
   "metadata": {},
   "outputs": [],
   "source": [
    "import sys\n",
    "import pickle\n",
    "import requests\n",
    "from datetime import datetime\n",
    "from bs4 import BeautifulSoup"
   ]
  },
  {
   "cell_type": "code",
   "execution_count": 2,
   "metadata": {},
   "outputs": [],
   "source": [
    "def get_date(news_block_node):\n",
    "    date_string = news_block_node.find(class_=\"news_date\").string.split('|')[0][2:-1]\n",
    "    return(datetime.strptime(date_string, '%Y.%m.%d').strftime('%Y-%m-%d'))\n",
    "    \n",
    "def get_title(news_block_node):\n",
    "    return news_block_node.find(class_=\"news_title\").a.string\n",
    "\n",
    "def get_link(news_block_node):\n",
    "    return news_block_node.find(class_=\"news_title\").a.get('href')\n",
    "\n",
    "def get_content(link):\n",
    "    r = requests.get(link)\n",
    "    r.encoding = \"UTF-8\"\n",
    "    soup = BeautifulSoup(r.text, 'html.parser')\n",
    "    article_node = soup.find(itemprop='articleBody')\n",
    "    article = article_node.get_text()\n",
    "    return article.replace(\"\\n\", \"\")"
   ]
  },
  {
   "cell_type": "code",
   "execution_count": 16,
   "metadata": {},
   "outputs": [],
   "source": [
    "def get_news_info(each_news):\n",
    "    date  = get_date(each_news)\n",
    "    title = get_title(each_news)\n",
    "    link  = get_link(each_news)\n",
    "    content = get_content(link)\n",
    "    \n",
    "    info = {'date' : date,\n",
    "            'title': title,\n",
    "            'link' : link,\n",
    "            'content': content}\n",
    "    return(info)\n",
    "\n",
    "def get_page_news(page_url):\n",
    "    r = requests.get(page_url)\n",
    "    r.encoding = \"UTF-8\"\n",
    "\n",
    "    soup = BeautifulSoup(r.text, 'html.parser')\n",
    "    news_blocks = soup.find_all(class_=\"news-list-item clearfix \")\n",
    "    \n",
    "    news = []\n",
    "    for each_news in news_blocks:\n",
    "        try:\n",
    "            news_info = get_news_info(each_news)\n",
    "#             print(get_title(each_news))\n",
    "        except:\n",
    "#             print('-------{}-------'.format())\n",
    "            pass\n",
    "\n",
    "        news.append(news_info)\n",
    "    return(news)\n",
    "\n",
    "\n",
    "def get_new_talk_news(from_page=1, end_page=270, url=\"https://newtalk.tw/news/subcategory/2/政治/\"):\n",
    "    print(\"page_number from {} to {}\".format(from_page, end_page -1))\n",
    "    data = []\n",
    "    for page_number in range(from_page, end_page):\n",
    "        print(\"page_number: {}\".format(page_number))\n",
    "        data = data + get_page_news( url+str(page_number) )\n",
    "    \n",
    "    print('done')\n",
    "    return(data)"
   ]
  },
  {
   "cell_type": "code",
   "execution_count": 17,
   "metadata": {},
   "outputs": [
    {
     "name": "stdout",
     "output_type": "stream",
     "text": [
      "page_number from 1 to 2\n",
      "page_number: 1\n",
      "page_number: 2\n",
      "done\n"
     ]
    }
   ],
   "source": [
    "data = get_new_talk_news(from_page=1, end_page=3)"
   ]
  },
  {
   "cell_type": "code",
   "execution_count": 18,
   "metadata": {},
   "outputs": [
    {
     "ename": "RecursionError",
     "evalue": "maximum recursion depth exceeded while pickling an object",
     "output_type": "error",
     "traceback": [
      "\u001b[1;31m---------------------------------------------------------------------------\u001b[0m",
      "\u001b[1;31mRecursionError\u001b[0m                            Traceback (most recent call last)",
      "\u001b[1;32m<ipython-input-18-c79e42022369>\u001b[0m in \u001b[0;36m<module>\u001b[1;34m\u001b[0m\n\u001b[0;32m      1\u001b[0m \u001b[1;32mwith\u001b[0m \u001b[0mopen\u001b[0m\u001b[1;33m(\u001b[0m\u001b[1;34m'new_talk.pkl'\u001b[0m\u001b[1;33m,\u001b[0m \u001b[1;34m'wb'\u001b[0m\u001b[1;33m)\u001b[0m \u001b[1;32mas\u001b[0m \u001b[0mhandle\u001b[0m\u001b[1;33m:\u001b[0m\u001b[1;33m\u001b[0m\u001b[1;33m\u001b[0m\u001b[0m\n\u001b[1;32m----> 2\u001b[1;33m     \u001b[0mpickle\u001b[0m\u001b[1;33m.\u001b[0m\u001b[0mdump\u001b[0m\u001b[1;33m(\u001b[0m\u001b[0mdata\u001b[0m\u001b[1;33m,\u001b[0m \u001b[0mhandle\u001b[0m\u001b[1;33m)\u001b[0m\u001b[1;33m\u001b[0m\u001b[1;33m\u001b[0m\u001b[0m\n\u001b[0m",
      "\u001b[1;31mRecursionError\u001b[0m: maximum recursion depth exceeded while pickling an object"
     ]
    }
   ],
   "source": [
    "with open('new_talk.pkl', 'wb') as handle:\n",
    "    pickle.dump(data, handle)"
   ]
  }
 ],
 "metadata": {
  "kernelspec": {
   "display_name": "Python 3",
   "language": "python",
   "name": "python3"
  },
  "language_info": {
   "codemirror_mode": {
    "name": "ipython",
    "version": 3
   },
   "file_extension": ".py",
   "mimetype": "text/x-python",
   "name": "python",
   "nbconvert_exporter": "python",
   "pygments_lexer": "ipython3",
   "version": "3.7.1"
  }
 },
 "nbformat": 4,
 "nbformat_minor": 2
}
