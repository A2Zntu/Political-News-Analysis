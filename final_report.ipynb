{
 "cells": [
  {
   "cell_type": "markdown",
   "metadata": {},
   "source": [
    "# 主題：政治新聞資料分析\n",
    "- 組員：王冠人、萬俊彥、廖品琪\n",
    "- 時間：2019/01/29"
   ]
  },
  {
   "cell_type": "markdown",
   "metadata": {},
   "source": [
    "## 研究目標\n",
    "考量臺灣社會政治冷感的現狀，提供一個較為客觀的資料統整，藉由日常生活中的事件觀察政治人物的網路聲量變化，作為一種參與政治的方式。"
   ]
  },
  {
   "cell_type": "markdown",
   "metadata": {},
   "source": [
    "## 研究方法\n",
    "1. 爬蟲搜尋網路新聞\n",
    "2. 進行資料清理及資料分析\n",
    "4. 視覺化呈現研究結果"
   ]
  },
  {
   "cell_type": "markdown",
   "metadata": {},
   "source": [
    "## 研究內容及結果"
   ]
  },
  {
   "cell_type": "markdown",
   "metadata": {},
   "source": [
    "### Part I 爬蟲"
   ]
  },
  {
   "cell_type": "markdown",
   "metadata": {},
   "source": [
    "- [新頭殼新聞爬蟲](/notebooks/political/crawler/new_talk_crawler.ipynb)\n",
    "- [自由時報新聞爬蟲](/notebooks/political/crawler/liberty_times_crawler.ipynb)"
   ]
  },
  {
   "cell_type": "markdown",
   "metadata": {},
   "source": [
    "###  Part II 資料清洗及分析"
   ]
  },
  {
   "cell_type": "markdown",
   "metadata": {},
   "source": [
    "- []()"
   ]
  },
  {
   "cell_type": "markdown",
   "metadata": {},
   "source": [
    "### Part III 視覺化呈現研究結果"
   ]
  },
  {
   "cell_type": "code",
   "execution_count": 46,
   "metadata": {},
   "outputs": [],
   "source": [
    "# import packages\n",
    "import math\n",
    "import numpy as np\n",
    "import plotly.plotly as py\n",
    "import plotly.graph_objs as go\n",
    "import ipywidgets as widgets\n",
    "from IPython.display import clear_output\n",
    "from datetime import datetime, timedelta"
   ]
  },
  {
   "cell_type": "code",
   "execution_count": 3,
   "metadata": {},
   "outputs": [],
   "source": [
    "# import data\n",
    "import json"
   ]
  },
  {
   "cell_type": "markdown",
   "metadata": {},
   "source": [
    "#### Section I 政治事件網路聲量分析"
   ]
  },
  {
   "cell_type": "code",
   "execution_count": 66,
   "metadata": {},
   "outputs": [],
   "source": [
    "def get_scatter_trace(points_x, points_y, points_size=10, trace_name='', line=False):\n",
    "    if line:\n",
    "        return go.Scatter(\n",
    "            x = points_x,\n",
    "            y = points_y,\n",
    "            mode = 'lines',\n",
    "            hoverinfo = 'x+y',\n",
    "            name = trace_name,\n",
    "            text = points_size,\n",
    "            yaxis = 'y2',\n",
    "            line = {\n",
    "                \"color\": 'rgba(255, 166, 87, 0.4)'\n",
    "            }\n",
    "        )\n",
    "    else:\n",
    "        return go.Scatter(\n",
    "            x = points_x,\n",
    "            y = points_y,\n",
    "            mode = 'markers' if not line else 'lines',\n",
    "            marker = {\n",
    "                'size': points_size\n",
    "            },\n",
    "            hoverinfo = 'text+name',\n",
    "            name = trace_name,\n",
    "            text = points_size\n",
    "        )"
   ]
  },
  {
   "cell_type": "code",
   "execution_count": 31,
   "metadata": {},
   "outputs": [],
   "source": [
    "events = json.loads(open('event_tfdf_dict.json').read())"
   ]
  },
  {
   "cell_type": "code",
   "execution_count": 33,
   "metadata": {},
   "outputs": [],
   "source": [
    "def sectionI_plot(ori_data, title=''):\n",
    "    \n",
    "    # data\n",
    "    fig_data = []\n",
    "    for index, name in enumerate(ori_data):\n",
    "        x, y, size = [], [], []\n",
    "        for date, tfdf_val in ori_data[name].items():\n",
    "            x.append(datetime.strptime(date, \"%Y-%m-%d\"))\n",
    "            y.append(len(ori_data) - index)\n",
    "            size.append(max(math.log(round(tfdf_val*10000, 2))*10, 0)) # constants need change\n",
    "        fig_data.append(get_scatter_trace(x, y, points_size=size, trace_name=name))\n",
    "        \n",
    "    # layout\n",
    "    fig_layout = go.Layout(\n",
    "        title=title,\n",
    "        xaxis=dict(\n",
    "            title='Date'\n",
    "        ),\n",
    "        yaxis=dict(\n",
    "            title='Event'\n",
    "        )\n",
    "    )\n",
    "\n",
    "    fig = go.Figure(data=fig_data, layout=fig_layout)\n",
    "    display(py.iplot(fig, filename='bubble-chart'))"
   ]
  },
  {
   "cell_type": "code",
   "execution_count": 32,
   "metadata": {},
   "outputs": [
    {
     "data": {
      "text/html": [
       "<iframe id=\"igraph\" scrolling=\"no\" style=\"border:none;\" seamless=\"seamless\" src=\"https://plot.ly/~MichaelWan/6.embed\" height=\"525px\" width=\"100%\"></iframe>"
      ],
      "text/plain": [
       "<plotly.tools.PlotlyDisplay object>"
      ]
     },
     "metadata": {},
     "output_type": "display_data"
    }
   ],
   "source": [
    "sectionI_plot(events)"
   ]
  },
  {
   "cell_type": "markdown",
   "metadata": {},
   "source": [
    "#### Section II 事件相關人聲量分析"
   ]
  },
  {
   "cell_type": "code",
   "execution_count": 18,
   "metadata": {},
   "outputs": [],
   "source": [
    "event_people_relation = json.loads(open('event_people_dict.json').read())"
   ]
  },
  {
   "cell_type": "code",
   "execution_count": 15,
   "metadata": {},
   "outputs": [],
   "source": [
    "def sectionII_plot(ori_data, selector_widget, start_date='2018-06-07', title=''):\n",
    "    start_date = datetime.strptime(start_date, \"%Y-%m-%d\")\n",
    "    \n",
    "    # data\n",
    "    fig_data = []\n",
    "    for index, name in enumerate(ori_data):\n",
    "        x, y, size = [], [], []\n",
    "        for day_index, tfdf_val in enumerate(ori_data[name]):\n",
    "            if tfdf_val != 0:\n",
    "                x.append(start_date + timedelta(days=day_index))\n",
    "                y.append(len(ori_data) - index)\n",
    "                size.append(max(math.log(round(tfdf_val, 2))*10,0)) ## constants need change\n",
    "        fig_data.append(get_scatter_trace(x, y, points_size=size, trace_name=name))\n",
    "        \n",
    "    # layout\n",
    "    fig_layout = go.Layout(\n",
    "        title=title,\n",
    "        xaxis=dict(\n",
    "            title='Date',\n",
    "            titlefont=dict(\n",
    "                size=18\n",
    "            )\n",
    "        ),\n",
    "        yaxis=dict(\n",
    "            title='People',\n",
    "            titlefont=dict(\n",
    "                size=18\n",
    "            )\n",
    "        )\n",
    "    )\n",
    "\n",
    "    fig = go.Figure(data=fig_data, layout=fig_layout)\n",
    "\n",
    "    clear_output()\n",
    "    display(selector_widget)\n",
    "    display(py.iplot(fig, filename='bubble-chart'))\n"
   ]
  },
  {
   "cell_type": "code",
   "execution_count": 17,
   "metadata": {},
   "outputs": [
    {
     "data": {
      "application/vnd.jupyter.widget-view+json": {
       "model_id": "161cbb3e720f4d2a8fa7f258c5c1404c",
       "version_major": 2,
       "version_minor": 0
      },
      "text/plain": [
       "Dropdown(description='政治事件：', index=31, options=('九二共識', '兩岸關係', '轉型正義', '立委補選', '九合一選舉', '兩岸一家親', '深澳電廠', '台大…"
      ]
     },
     "metadata": {},
     "output_type": "display_data"
    },
    {
     "data": {
      "text/html": [
       "<iframe id=\"igraph\" scrolling=\"no\" style=\"border:none;\" seamless=\"seamless\" src=\"https://plot.ly/~a136489/65.embed\" height=\"525px\" width=\"100%\"></iframe>"
      ],
      "text/plain": [
       "<plotly.tools.PlotlyDisplay object>"
      ]
     },
     "metadata": {},
     "output_type": "display_data"
    }
   ],
   "source": [
    "event_selector = widgets.Dropdown(\n",
    "    options=list(events.keys()),\n",
    "    description='政治事件：'\n",
    ")\n",
    "display(event_selector)\n",
    "\n",
    "def event_change(change):\n",
    "    top_10_related_people = dict(sorted(event_people_relation[change['new']].items(), key=lambda x: sum(x[1]), reverse=True)[:10])\n",
    "    sectionII_plot(top_10_related_people, event_selector, title=change['new'])\n",
    "\n",
    "event_change({'new': list(events.keys())[0]})\n",
    "    \n",
    "event_selector.observe(event_change, names='value')"
   ]
  },
  {
   "cell_type": "markdown",
   "metadata": {},
   "source": [
    "#### Section III 人物聲量與事件疊圖分析"
   ]
  },
  {
   "cell_type": "code",
   "execution_count": 69,
   "metadata": {},
   "outputs": [],
   "source": [
    "def sectionIII_plot(people_data, events_data, start_date='2018-06-07', title=''):\n",
    "    start_date = datetime.strptime(start_date, \"%Y-%m-%d\")\n",
    "    \n",
    "    fig_data = []\n",
    "    \n",
    "    # people data\n",
    "    x, y = [], []\n",
    "    for day_index, value in enumerate(people_data['tfdf']):\n",
    "        x.append(start_date + timedelta(days=day_index))\n",
    "        y.append(value)\n",
    "    fig_data.append(get_scatter_trace(x, y, line=True))\n",
    "    \n",
    "    # event data\n",
    "    for index, name in enumerate(events_data):\n",
    "        x, y, size = [], [], []\n",
    "        for date, tfdf_val in events_data[name].items():\n",
    "            x.append(datetime.strptime(date, \"%Y-%m-%d\"))\n",
    "            y.append(len(events_data) - index)\n",
    "            size.append(max(math.log(round(tfdf_val*10000, 2))*10, 0)) # constants need change\n",
    "        fig_data.append(get_scatter_trace(x, y, size, trace_name=name))\n",
    "        \n",
    "    # layout\n",
    "    fig_layout = go.Layout(\n",
    "        title=title,\n",
    "        xaxis=dict(\n",
    "            title='Date'\n",
    "        ),\n",
    "        yaxis=dict(\n",
    "            title='Event'\n",
    "        ),\n",
    "        yaxis2=dict(\n",
    "            title='People Reputation',\n",
    "            titlefont=dict(\n",
    "                color='rgb(148, 103, 189)'\n",
    "            ),\n",
    "            tickfont=dict(\n",
    "                color='rgb(148, 103, 189)'\n",
    "            ),\n",
    "            overlaying='y',\n",
    "            side='right'\n",
    "        )\n",
    "    )\n",
    "\n",
    "    fig = go.Figure(data=fig_data, layout=fig_layout)\n",
    "    display(py.iplot(fig, filename='bubble-chart'))"
   ]
  },
  {
   "cell_type": "code",
   "execution_count": 71,
   "metadata": {},
   "outputs": [
    {
     "data": {
      "text/html": [
       "<iframe id=\"igraph\" scrolling=\"no\" style=\"border:none;\" seamless=\"seamless\" src=\"https://plot.ly/~MichaelWan/6.embed\" height=\"525px\" width=\"100%\"></iframe>"
      ],
      "text/plain": [
       "<plotly.tools.PlotlyDisplay object>"
      ]
     },
     "metadata": {},
     "output_type": "display_data"
    }
   ],
   "source": [
    "sectionIII_plot({\n",
    "    'name': '柯文哲',\n",
    "    'tfdf': np.random.uniform(0,50,230)\n",
    "}, events, title='人物與事件聲量圖')"
   ]
  }
 ],
 "metadata": {
  "kernelspec": {
   "display_name": "Python 3",
   "language": "python",
   "name": "python3"
  },
  "language_info": {
   "codemirror_mode": {
    "name": "ipython",
    "version": 3
   },
   "file_extension": ".py",
   "mimetype": "text/x-python",
   "name": "python",
   "nbconvert_exporter": "python",
   "pygments_lexer": "ipython3",
   "version": "3.7.1"
  }
 },
 "nbformat": 4,
 "nbformat_minor": 2
}
